{
 "cells": [
  {
   "cell_type": "code",
   "execution_count": 2,
   "metadata": {},
   "outputs": [],
   "source": [
    "import cv2 \n",
    "import numpy as np \n",
    "import time \n",
    "\n",
    "# replace the red pixels ( or undesired area ) with \n",
    "# background pixels to generate the invisibility feature. \n",
    "## 1. Hue: This channel encodes color information. Hue can be \n",
    "# thought of an angle where 0 degree corresponds to the red color, \n",
    "# 120 degrees corresponds to the green color, and 240 degrees \n",
    "# corresponds to the blue color. \n",
    "## 2. Saturation: This channel encodes the intensity/purity of color. \n",
    "# For example, pink is less saturated than red. \n",
    "## 3. Value: This channel encodes the brightness of color. "
   ]
  },
  {
   "cell_type": "code",
   "execution_count": 21,
   "metadata": {},
   "outputs": [],
   "source": [
    "# using a webcam\n",
    "cam = cv2.VideoCapture(1)\n",
    "out = cv2.VideoWriter('outpy.avi',cv2.VideoWriter_fourcc(*'XVID'), 25, (640,480))\n",
    "cam.set(3,640)\n",
    "cam.set(4,480)\n",
    "cam.set(10,130)\n",
    "time.sleep(1) \n",
    "count = 0\n",
    "background = 0\n",
    "\n",
    "# capturing the background in range of 60 you should have video that have some seconds \n",
    "# dedicated to background frame so that it could easily save the background image \n",
    "for i in range(60): \n",
    "    return_val, background = cam.read() \n",
    "    if return_val == False : \n",
    "        continue\n",
    "\n",
    "background = np.flip(background, axis = 1) # flipping of the frame \n",
    "\n",
    "# we are reading from video \n",
    "while (cam.isOpened()): \n",
    "    return_val, img = cam.read() \n",
    "    if not return_val : \n",
    "        break\n",
    "    count = count + 1\n",
    "    img = np.flip(img, axis = 1) \n",
    "\n",
    "    # convert the image - BGR to HSV \n",
    "    # as we focused on detection of red color \n",
    "\n",
    "    # converting BGR to HSV for better detection\n",
    "    \n",
    "    hsv = cv2.cvtColor(img, cv2.COLOR_BGR2HSV) \n",
    "\n",
    "    \n",
    "    # ranges should be carefully chosen setting the lower and upper range for mask1 \n",
    "    lower_blue = np.array([72,50,100])\n",
    "    upper_blue = np.array([130,255,255])\n",
    "    mask1 = cv2.inRange(hsv, lower_blue, upper_blue) \n",
    " \n",
    "    mask1 = cv2.morphologyEx(mask1, cv2.MORPH_OPEN, np.ones((3, 3), \n",
    "                                        np.uint8), iterations = 2) \n",
    "    mask1 = cv2.dilate(mask1, np.ones((3, 3), np.uint8), iterations = 1) \n",
    "    mask2 = cv2.bitwise_not(mask1) \n",
    "\n",
    "    # Generating the final output \n",
    "    res1 = cv2.bitwise_and(background, background, mask = mask1) \n",
    "    res2 = cv2.bitwise_and(img, img, mask = mask2) \n",
    "    final_output = cv2.addWeighted(res1, 1, res2, 1, 0) \n",
    "    out.write(final_output.copy())\n",
    "    cv2.imshow(\"INVISIBLE MAN\", final_output)\n",
    "    if cv2.waitKey(1) & 0xFF == ord('a'):\n",
    "        break\n",
    "cam.release()\n",
    "out.release()\n",
    "cv2.destroyAllWindows()"
   ]
  },
  {
   "cell_type": "code",
   "execution_count": null,
   "metadata": {},
   "outputs": [],
   "source": []
  },
  {
   "cell_type": "code",
   "execution_count": null,
   "metadata": {},
   "outputs": [],
   "source": []
  }
 ],
 "metadata": {
  "kernelspec": {
   "display_name": "tensorflow",
   "language": "python",
   "name": "tensorflow"
  },
  "language_info": {
   "codemirror_mode": {
    "name": "ipython",
    "version": 3
   },
   "file_extension": ".py",
   "mimetype": "text/x-python",
   "name": "python",
   "nbconvert_exporter": "python",
   "pygments_lexer": "ipython3",
   "version": "3.7.7"
  }
 },
 "nbformat": 4,
 "nbformat_minor": 4
}
